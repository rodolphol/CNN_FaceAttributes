{
  "nbformat": 4,
  "nbformat_minor": 0,
  "metadata": {
    "accelerator": "GPU",
    "colab": {
      "name": "training_code_final.ipynb",
      "provenance": [],
      "collapsed_sections": [],
      "machine_shape": "hm"
    },
    "kernelspec": {
      "display_name": "Python 3",
      "language": "python",
      "name": "python3"
    },
    "language_info": {
      "codemirror_mode": {
        "name": "ipython",
        "version": 3
      },
      "file_extension": ".py",
      "mimetype": "text/x-python",
      "name": "python",
      "nbconvert_exporter": "python",
      "pygments_lexer": "ipython3",
      "version": "3.7.10"
    }
  },
  "cells": [
    {
      "cell_type": "code",
      "metadata": {
        "id": "5I_dqGTYth0c"
      },
      "source": [
        "# Mount google drive\n",
        "#from google.colab import drive\n",
        "#drive.mount('/content/drive')"
      ],
      "execution_count": null,
      "outputs": []
    },
    {
      "cell_type": "code",
      "metadata": {
        "id": "E67aEUtxOl99"
      },
      "source": [
        "import numpy as np\n",
        "import pandas as pd\n",
        "import matplotlib.pyplot as plt \n",
        "import glob\n",
        "import cv2 # importing OpenCV library\n",
        "from google.colab.patches import cv2_imshow\n",
        "import tensorflow as tf\n",
        "from tensorflow.keras import datasets, layers, optimizers, utils, losses, Sequential\n",
        "from tensorflow.keras.layers import Input, Dense, BatchNormalization, Conv2D, MaxPool2D, GlobalMaxPool2D, Dropout, Flatten, experimental, Lambda\n",
        "from tensorflow.keras.optimizers import SGD, Adam\n",
        "from tensorflow.keras.models import Model\n",
        "from keras.applications.vgg16 import VGG16\n",
        "from sklearn.model_selection import train_test_split\n",
        "from numpy import expand_dims\n",
        "from keras.preprocessing.image import load_img\n",
        "from keras.preprocessing.image import img_to_array\n",
        "from keras.preprocessing.image import ImageDataGenerator\n",
        "from matplotlib import pyplot\n",
        "import gc\n",
        "import os\n",
        "import sys\n",
        "import csv\n",
        "from pathlib import Path\n",
        "import shutil\n",
        "\n",
        "%matplotlib inline"
      ],
      "execution_count": null,
      "outputs": []
    },
    {
      "cell_type": "markdown",
      "metadata": {
        "id": "YPVX2sGYeLbz"
      },
      "source": [
        "**Upload images**"
      ]
    },
    {
      "cell_type": "code",
      "metadata": {
        "id": "ikoKx5_WUKkP"
      },
      "source": [
        "#Unzip pictures from google drive into colab VM to speed up the processing\n",
        "#!unzip \"/content/drive/MyDrive/COMP1804_CW/COMP1804_PICS.zip\" -d \"/content\""
      ],
      "execution_count": null,
      "outputs": []
    },
    {
      "cell_type": "code",
      "metadata": {
        "id": "rtR3WBoLiRlI"
      },
      "source": [
        "## Load the annotations file and create\n",
        "file_name = '/content/drive/MyDrive/annotations.csv'\n",
        "with open(file_name) as fil:\n",
        " next(fil) \n",
        " content = fil.readlines()\n",
        "\n",
        "input_labels = []\n",
        "input_images = []\n",
        "\n",
        "for elem in content:\n",
        "  line = elem.split(',')\n",
        "  input_images.append(line[0])\n",
        "  input_labels.append([int(line[1]),int(line[2]),int(line[3]),int(line[4]),int(line[5]),int(line[6])])\n"
      ],
      "execution_count": null,
      "outputs": []
    },
    {
      "cell_type": "code",
      "metadata": {
        "id": "SrSrz2QWnmRt"
      },
      "source": [
        "#Provide the path where the pictures are available\n",
        "location = '/content/COMP1804_PICS/'\n",
        "\n",
        "#Use face cascade to crop the face out of the images and save into the required resoltuion\n",
        "cascade_path = cv2.data.haarcascades + \"haarcascade_frontalface_default.xml\" \n",
        "face_cascade = cv2.CascadeClassifier(cascade_path)\n",
        "\n",
        "crop_path = \"/content/crop_images/\"\n",
        "if os.path.exists(crop_path):\n",
        "  shutil.rmtree(crop_path)\n",
        "  Path(crop_path).mkdir()\n",
        "else:\n",
        "  Path(crop_path).mkdir()\n",
        "\n",
        "idx = 0\n",
        "crop_images_input = [] # list to collect the cropped images, it may contain more than one result per raw image providede\n",
        "labels_input = [] # list of labels obtained from the annotation tool\n",
        "\n",
        "for img in input_images:\n",
        "\n",
        "  img = cv2.imread(location + img)\n",
        "  faces = face_cascade.detectMultiScale(img, 1.1, 3, minSize=(100,100))\n",
        "  \n",
        "  if (faces is None):\n",
        "    # in case a face is not detected just increase the index\n",
        "    idx += 1\n",
        "  else:\n",
        "    i = 0 #number of faces detected in the same raw image\n",
        "    #height, width = img.shape[:2]\n",
        "\n",
        "    for (x, y, w, h) in faces:\n",
        "      r = max(w, h) / 2\n",
        "      if y <= 80:          # to avoid out of bonds error when shifting the crop upward\n",
        "        centerx = x + w / 2\n",
        "        centery = y-y + h / 2\n",
        "        nx = int(centerx - r)\n",
        "        ny = int(centery - r + y)\n",
        "        nr = int(r * 2)\n",
        "      else:\n",
        "        centerx = x + w / 2\n",
        "        centery = y-80 + h / 2 # shifting the crop upward to obtain the hair\n",
        "        nx = int(centerx - r)\n",
        "        ny = int(centery - r)\n",
        "        nr = int(r * 2)\n",
        "\n",
        "      faceimg = img[ny:ny+nr, nx:nx+nr]\n",
        "      lastimg = cv2.resize(faceimg, (224, 224))\n",
        "      # Saving the file of generated picture for further analysis and checks\n",
        "      # Format image_0000_\n",
        "      cv2.imwrite(crop_path + \"image_\" + str(idx).zfill(4) + \"_\" + str(i).zfill(2) + \".jpg\" , lastimg)\n",
        "      lastimg_rgb = cv2.cvtColor(lastimg, cv2.COLOR_BGR2RGB)\n",
        "      crop_images_input.append(lastimg_rgb)\n",
        "      labels_input.append(input_labels[idx])\n",
        "      i += 1\n",
        "    \n",
        "    idx += 1"
      ],
      "execution_count": null,
      "outputs": []
    },
    {
      "cell_type": "code",
      "metadata": {
        "colab": {
          "base_uri": "https://localhost:8080/"
        },
        "id": "D_SmhJDP5hiG",
        "outputId": "15b91987-9b2c-4f8d-992e-a7b00d8a4711"
      },
      "source": [
        "len(crop_images_input)"
      ],
      "execution_count": null,
      "outputs": [
        {
          "output_type": "execute_result",
          "data": {
            "text/plain": [
              "2128"
            ]
          },
          "metadata": {
            "tags": []
          },
          "execution_count": 14
        }
      ]
    },
    {
      "cell_type": "markdown",
      "metadata": {
        "id": "y4gpXLsD1W1p"
      },
      "source": [
        "**Removal of non human face as per annotation tool**"
      ]
    },
    {
      "cell_type": "code",
      "metadata": {
        "id": "KvWoqz3e9i71"
      },
      "source": [
        "# Create label numpy array\n",
        "labels = np.array(labels_input)\n",
        "\n",
        "# Create crop images numpy array\n",
        "crop_images = np.array(crop_images_input)\n",
        "\n",
        "# Identify the records where there is no human face\n",
        "not_human = pd.DataFrame(labels[:,5])\n",
        "lst_not_human = not_human.index[not_human[0] == 1].tolist()\n",
        "\n",
        "# Remove non human faces from crop images and labels\n",
        "images_clean = np.delete(crop_images, lst_not_human, axis=0)\n",
        "labels_clean = np.delete(labels, lst_not_human, axis=0)\n"
      ],
      "execution_count": null,
      "outputs": []
    },
    {
      "cell_type": "code",
      "metadata": {
        "id": "lXdWmH32kDsi"
      },
      "source": [
        "# Create separate labels for each category\n",
        "wrinkles_lbl = labels_clean[:,0]\n",
        "freakles_lbl = labels_clean[:,1]\n",
        "glasses_lbl = labels_clean[:,2]\n",
        "hair_color_lbl = labels_clean[:,3]\n",
        "hair_top_lbl = labels_clean[:,4]"
      ],
      "execution_count": null,
      "outputs": []
    },
    {
      "cell_type": "markdown",
      "metadata": {
        "id": "VN0BQQ5S1RWb"
      },
      "source": [
        "**EDA**"
      ]
    },
    {
      "cell_type": "code",
      "metadata": {
        "colab": {
          "base_uri": "https://localhost:8080/",
          "height": 748
        },
        "id": "8cUT7aT0nEmq",
        "outputId": "2f354373-72dc-4392-8d5d-47c2865823b1"
      },
      "source": [
        "# Check distribution for each class accross categories\n",
        "\n",
        "wrinkles_x = [\"no wrinkles\", \"wrinkles\"]\n",
        "wrinkles_y = np.bincount(wrinkles_lbl)\n",
        "\n",
        "freakles_x = [\"no freakles\", \"freakles\"]\n",
        "freakles_y = np.bincount(freakles_lbl)\n",
        "\n",
        "glasses_x = [\"no glasses\", \"glasses\", \"sunglasses\"]\n",
        "glasses_y = np.bincount(glasses_lbl)\n",
        "\n",
        "hair_color_x = [\"brown\", \"black\", \"gray\", \"blond\", \"red\", \"white\", \"mixed\", \"other\", \"not visible\"]\n",
        "hair_color_y = np.bincount(hair_color_lbl)\n",
        "\n",
        "hair_top_x = [\"bald/shaved\", \"few hair\", \"thick hair\", \"not visible\"]\n",
        "hair_top_y = np.bincount(hair_top_lbl)\n",
        "\n",
        "fig, axs = plt.subplots(2, 3,figsize=(25,10))\n",
        "fig.suptitle('Distribution of class labels accross different categories - original dataset')\n",
        "axs[0, 0].bar(wrinkles_x, wrinkles_y)\n",
        "axs[0, 0].set_title(\"Wrinkles\")\n",
        "axs[0, 1].bar(freakles_x, freakles_y)\n",
        "axs[0, 1].set_title(\"Freakles\")\n",
        "axs[0, 2].bar(glasses_x, glasses_y)\n",
        "axs[0, 2].set_title(\"Glasses\")\n",
        "axs[1, 0].bar(hair_color_x, hair_color_y)\n",
        "axs[1, 0].set_title(\"Hair Color\")\n",
        "axs[1, 1].bar(hair_top_x, hair_top_y)\n",
        "axs[1, 1].set_title(\"Hair Top\")\n",
        "\n",
        "print('Distribution of wrinkles: No Wrinkles ' + str(wrinkles_y[0]) +', Wrinkles ' + str(wrinkles_y[1]))\n",
        "print('Distribution of freakles: No Freakles ' + str(freakles_y[0]) +', Freakles ' + str(freakles_y[1]))\n",
        "print('Distribution of glasses: No Glasses ' + str(glasses_y[0]) +', Glasses ' + str(glasses_y[1])+' Sunglasses ' + str(glasses_y[2]))\n",
        "print('Distribution of hair color: Brown ' + str(hair_color_y[0]) +', Black ' + str(hair_color_y[1])+', Gray ' + str(hair_color_y[2])\n",
        "+', Blond ' + str(hair_color_y[3])+', Red ' + str(hair_color_y[4])\n",
        "+', White ' + str(hair_color_y[5])+', Mixed ' + str(hair_color_y[6])\n",
        "+', Other ' + str(hair_color_y[7])+', Not Visible ' + str(hair_color_y[8]))\n",
        "print('Distribution of hair top: Bald/Shaved ' + str(hair_top_y[0]) +', Thin hair ' + str(hair_top_y[1])+', Thick hair ' + str(hair_top_y[2])\n",
        "+', Not Visible ' + str(hair_top_y[3]))"
      ],
      "execution_count": null,
      "outputs": [
        {
          "output_type": "stream",
          "text": [
            "Distribution of wrinkles: No Wrinkles 1391, Wrinkles 539\n",
            "Distribution of freakles: No Freakles 1924, Freakles 6\n",
            "Distribution of glasses: No Glasses 1700, Glasses 207 Sunglasses 23\n",
            "Distribution of hair color: Brown 597, Black 498, Gray 280, Blond 322, Red 68, White 60, Mixed 20, Other 10, Not Visible 75\n",
            "Distribution of hair top: Bald/Shaved 30, Thin hair 164, Thick hair 1532, Not Visible 204\n"
          ],
          "name": "stdout"
        },
        {
          "output_type": "display_data",
          "data": {
            "image/png": "[encoded data removed]",
            "text/plain": [
              "<Figure size 1800x720 with 6 Axes>"
            ]
          },
          "metadata": {
            "tags": [],
            "needs_background": "light"
          }
        }
      ]
    },
    {
      "cell_type": "code",
      "metadata": {
        "id": "CFJ3PjkjENNw"
      },
      "source": [
        "df_labels = pd.DataFrame(labels_clean, columns=[\"wr\",\"fr\",\"gl\",\"hc\",\"ht\",\"hm\"])"
      ],
      "execution_count": null,
      "outputs": []
    },
    {
      "cell_type": "code",
      "metadata": {
        "id": "z58B-UQ8rgh-"
      },
      "source": [
        "category = [\"wr\",\"fr\",\"gl\",\"hc\",\"ht\",\"hm\"]\n",
        "aug_folder = \"/content/images_train_aug/\"\n",
        "\n",
        "for cat in range(len(category)):\n",
        "  aug_folder = \"/content/images_train_aug/\" + category[cat]\n",
        "  if os.path.exists(aug_folder):\n",
        "    shutil.rmtree(aug_folder)\n",
        "    Path(aug_folder).mkdir(parents=True)\n",
        "  else:\n",
        "    Path(aug_folder).mkdir(parents=True) "
      ],
      "execution_count": null,
      "outputs": []
    },
    {
      "cell_type": "code",
      "metadata": {
        "id": "Z1AUKWDTGZkY"
      },
      "source": [
        "def data_aug(images_array, labels_df, class_int ,category, rng):\n",
        "  \n",
        "  aug_path = \"/content/images_train_aug/\" + category + \"/\"\n",
        "\n",
        "\n",
        "\n",
        "  datagen = ImageDataGenerator(width_shift_range=[-0.15,0.15],horizontal_flip=True,\n",
        "                             rotation_range=25,brightness_range=[0.7,1.3])\n",
        "  \n",
        "  list_imgs = labels_df.index[labels_df[category] == class_int].tolist()\n",
        "  img_include = images_array[list_imgs]\n",
        "  # prepare iterator\n",
        "  it = datagen.flow(img_include,batch_size=32, save_to_dir= aug_path, save_format = 'jpeg', save_prefix = category + '_' +str(class_int) )\n",
        "  #rng = 27\n",
        "# generate samples \n",
        "  for i in range(rng):\n",
        "    batch = it.next()\n",
        "    image = batch[0].astype('uint8')"
      ],
      "execution_count": null,
      "outputs": []
    },
    {
      "cell_type": "code",
      "metadata": {
        "id": "t_AWh0PXKoUg"
      },
      "source": [
        "def data_aug_input(path):\n",
        "  aug_pics = glob.glob(path)\n",
        "  aug_pics.sort()\n",
        "  labels_aug=[]\n",
        "  images_aug=[]\n",
        "  for aug_pic in aug_pics:\n",
        "    idx_org_pic = str.split(os.path.basename(os.path.normpath(aug_pic)),'_')\n",
        "    pre_lbl_aug = []\n",
        "    lbl_value = idx_org_pic[1]\n",
        "  #for elem in range(len(idx)):\n",
        "  #  pre_lbl_aug.append(int(idx[elem]))\n",
        "    labels_aug.append(int(lbl_value))\n",
        "    pic = cv2.imread(aug_pic)\n",
        "    pic_rgb = cv2.cvtColor(pic, cv2.COLOR_BGR2RGB)\n",
        "    images_aug.append(pic_rgb)\n",
        "  \n",
        "  return images_aug, labels_aug\n",
        "\n"
      ],
      "execution_count": null,
      "outputs": []
    },
    {
      "cell_type": "markdown",
      "metadata": {
        "id": "ssy3UvyWxzII"
      },
      "source": [
        "**Wrinkles augmentation**"
      ]
    },
    {
      "cell_type": "code",
      "metadata": {
        "id": "O_T9_WCnW6yW"
      },
      "source": [
        "data_aug(images_clean, df_labels, 1, \"wr\", 27 )"
      ],
      "execution_count": null,
      "outputs": []
    },
    {
      "cell_type": "code",
      "metadata": {
        "id": "4TVXYdc5L-_l"
      },
      "source": [
        "images_aug_wr, labels_aug_wr = data_aug_input('/content/images_train_aug/wr/*')"
      ],
      "execution_count": null,
      "outputs": []
    },
    {
      "cell_type": "code",
      "metadata": {
        "id": "tj_XtdFHfbct"
      },
      "source": [
        "labels_train_wr = np.concatenate((labels_clean[:,0], labels_aug_wr), axis=0)"
      ],
      "execution_count": null,
      "outputs": []
    },
    {
      "cell_type": "markdown",
      "metadata": {
        "id": "dB30AoSfxyrG"
      },
      "source": [
        "**Freakles augmentation**"
      ]
    },
    {
      "cell_type": "code",
      "metadata": {
        "id": "9PvkqrW5H2pa"
      },
      "source": [
        "data_aug(images_clean, df_labels, 1, \"fr\", 320 )"
      ],
      "execution_count": null,
      "outputs": []
    },
    {
      "cell_type": "code",
      "metadata": {
        "id": "d2Nz8cHNUFKs"
      },
      "source": [
        "images_aug_fr, labels_aug_fr = data_aug_input('/content/images_train_aug/fr/*')"
      ],
      "execution_count": null,
      "outputs": []
    },
    {
      "cell_type": "markdown",
      "metadata": {
        "id": "RJU1wZW6yL9A"
      },
      "source": [
        "**Glasses augmentation**"
      ]
    },
    {
      "cell_type": "code",
      "metadata": {
        "id": "LXH11REqXCnu"
      },
      "source": [
        "data_aug(images_clean, df_labels, 1, \"gl\", 47 )\n",
        "data_aug(images_clean, df_labels, 2, \"gl\", 73 )"
      ],
      "execution_count": null,
      "outputs": []
    },
    {
      "cell_type": "code",
      "metadata": {
        "id": "6u501kBKW1v8"
      },
      "source": [
        "images_aug_gl, labels_aug_gl = data_aug_input('/content/images_train_aug/gl/*')"
      ],
      "execution_count": null,
      "outputs": []
    },
    {
      "cell_type": "markdown",
      "metadata": {
        "id": "1Sl_A19ryQW6"
      },
      "source": [
        "**Hair color augmentation**"
      ]
    },
    {
      "cell_type": "code",
      "metadata": {
        "id": "5f9UwqO9YhS0"
      },
      "source": [
        "data_aug(images_clean, df_labels, 1, \"hc\", 3 )\n",
        "data_aug(images_clean, df_labels, 2, \"hc\", 10 )\n",
        "data_aug(images_clean, df_labels, 3, \"hc\", 9 )\n",
        "data_aug(images_clean, df_labels, 4, \"hc\", 19 )\n",
        "data_aug(images_clean, df_labels, 5, \"hc\", 17 )\n",
        "data_aug(images_clean, df_labels, 6, \"hc\", 29 )\n",
        "data_aug(images_clean, df_labels, 7, \"hc\", 59 )\n",
        "data_aug(images_clean, df_labels, 8, \"hc\", 19 )\n"
      ],
      "execution_count": null,
      "outputs": []
    },
    {
      "cell_type": "code",
      "metadata": {
        "id": "5VfPvcr0aZe9"
      },
      "source": [
        "images_aug_hc, labels_aug_hc = data_aug_input('/content/images_train_aug/hc/*')"
      ],
      "execution_count": null,
      "outputs": []
    },
    {
      "cell_type": "code",
      "metadata": {
        "id": "xM-8ZqsRbXdZ"
      },
      "source": [
        "data_aug(images_clean, df_labels, 0, \"ht\", 50 )\n",
        "data_aug(images_clean, df_labels, 1, \"ht\", 44 )\n",
        "data_aug(images_clean, df_labels, 3, \"ht\", 42 )"
      ],
      "execution_count": null,
      "outputs": []
    },
    {
      "cell_type": "code",
      "metadata": {
        "id": "5qdBzOWNcH_c"
      },
      "source": [
        "images_aug_ht, labels_aug_ht = data_aug_input('/content/images_train_aug/ht/*')"
      ],
      "execution_count": null,
      "outputs": []
    },
    {
      "cell_type": "markdown",
      "metadata": {
        "id": "_e7Qsjhby5kq"
      },
      "source": [
        "**Create different datasets for training and respective labels**"
      ]
    },
    {
      "cell_type": "code",
      "metadata": {
        "id": "pn2zDN5eUNGV"
      },
      "source": [
        "# Creating label files for each category\n",
        "labels_wr_aug = np.concatenate((labels_clean[:,0], np.array(labels_aug_wr)), axis=0)\n",
        "labels_fr_aug = np.concatenate((labels_clean[:,1], np.array(labels_aug_fr)), axis=0)\n",
        "labels_gl_aug = np.concatenate((labels_clean[:,2], np.array(labels_aug_gl)), axis=0)\n",
        "labels_hc_aug = np.concatenate((labels_clean[:,3], np.array(labels_aug_hc)), axis=0)\n",
        "labels_ht_aug = np.concatenate((labels_clean[:,4], np.array(labels_aug_ht)), axis=0)"
      ],
      "execution_count": null,
      "outputs": []
    },
    {
      "cell_type": "code",
      "metadata": {
        "id": "NC68H2QojLoJ"
      },
      "source": [
        "# Creating training image files for each category\n",
        "images_wr_aug = np.concatenate((images_clean, np.array(images_aug_wr)),axis=0)\n",
        "images_fr_aug = np.concatenate((images_clean, np.array(images_aug_fr)),axis=0)\n",
        "images_gl_aug = np.concatenate((images_clean, np.array(images_aug_gl)),axis=0)\n",
        "images_hc_aug = np.concatenate((images_clean, np.array(images_aug_hc)),axis=0)\n",
        "images_ht_aug = np.concatenate((images_clean, np.array(images_aug_ht)),axis=0)"
      ],
      "execution_count": null,
      "outputs": []
    },
    {
      "cell_type": "code",
      "metadata": {
        "colab": {
          "base_uri": "https://localhost:8080/"
        },
        "id": "6JVQZMe1NSN8",
        "outputId": "e81e8889-5896-43ca-b05a-6225dbb062a7"
      },
      "source": [
        "# Checking consistency accross labels and images rows\n",
        "print(labels_wr_aug.shape)\n",
        "print(images_wr_aug.shape)\n",
        "print(labels_fr_aug.shape)\n",
        "print(images_fr_aug.shape)\n",
        "print(labels_gl_aug.shape)\n",
        "print(images_gl_aug.shape)\n",
        "print(labels_hc_aug.shape)\n",
        "print(images_hc_aug.shape)\n",
        "print(labels_ht_aug.shape)\n",
        "print(images_ht_aug.shape)"
      ],
      "execution_count": null,
      "outputs": [
        {
          "output_type": "stream",
          "text": [
            "(2789,)\n",
            "(2789, 224, 224, 3)\n",
            "(3816,)\n",
            "(3816, 224, 224, 3)\n",
            "(5005,)\n",
            "(5005, 224, 224, 3)\n",
            "(5227,)\n",
            "(5227, 224, 224, 3)\n",
            "(5862,)\n",
            "(5862, 224, 224, 3)\n"
          ],
          "name": "stdout"
        }
      ]
    },
    {
      "cell_type": "code",
      "metadata": {
        "colab": {
          "base_uri": "https://localhost:8080/",
          "height": 748
        },
        "id": "yXavySnW08fj",
        "outputId": "2b4e4ef3-16a7-43b1-840b-e7c9f3bfcb4e"
      },
      "source": [
        "\n",
        "wrinkles_x = [\"no wrinkles\", \"wrinkles\"]\n",
        "wrinkles_y = np.bincount(labels_wr_aug)\n",
        "\n",
        "freakles_x = [\"no freakles\", \"freakles\"]\n",
        "freakles_y = np.bincount(labels_fr_aug)\n",
        "\n",
        "glasses_x = [\"no glasses\", \"glasses\", \"sunglasses\"]\n",
        "glasses_y = np.bincount(labels_gl_aug)\n",
        "\n",
        "hair_color_x = [\"brown\", \"black\", \"gray\", \"blond\", \"red\", \"white\", \"mixed\", \"other\", \"not visible\"]\n",
        "hair_color_y = np.bincount(labels_hc_aug)\n",
        "\n",
        "hair_top_x = [\"bald/shaved\", \"few hair\", \"thick hair\", \"not visible\",]\n",
        "hair_top_y = np.bincount(labels_ht_aug)\n",
        "\n",
        "fig, axs = plt.subplots(2, 3,figsize=(25,10))\n",
        "fig.suptitle('Distribution of class labels accross different categories - after augmentation')\n",
        "axs[0, 0].bar(wrinkles_x, wrinkles_y)\n",
        "axs[0, 0].set_title(\"Wrinkles\")\n",
        "axs[0, 1].bar(freakles_x, freakles_y)\n",
        "axs[0, 1].set_title(\"Freakles\")\n",
        "axs[0, 2].bar(glasses_x, glasses_y)\n",
        "axs[0, 2].set_title(\"Glasses\")\n",
        "axs[1, 0].bar(hair_color_x, hair_color_y)\n",
        "axs[1, 0].set_title(\"Hair Color\")\n",
        "axs[1, 1].bar(hair_top_x, hair_top_y)\n",
        "axs[1, 1].set_title(\"Hair Top\")\n",
        "\n",
        "print('Distribution of wrinkles: No Wrinkles ' + str(wrinkles_y[0]) +', Wrinkles ' + str(wrinkles_y[1]))\n",
        "print('Distribution of freakles: No Freakles ' + str(freakles_y[0]) +', Freakles ' + str(freakles_y[1]))\n",
        "print('Distribution of glasses: No Glasses ' + str(glasses_y[0]) +', Glasses ' + str(glasses_y[1])+' Sunglasses ' + str(glasses_y[2]))\n",
        "print('Distribution of hair color: Brown ' + str(hair_color_y[0]) +', Black ' + str(hair_color_y[1])+', Gray ' + str(hair_color_y[2])\n",
        "+', Blond ' + str(hair_color_y[3])+', Red ' + str(hair_color_y[4])\n",
        "+', White ' + str(hair_color_y[5])+', Mixed ' + str(hair_color_y[6])\n",
        "+', Other ' + str(hair_color_y[7])+', Not Visible ' + str(hair_color_y[8]))\n",
        "print('Distribution of hair top: Bald/Shaved ' + str(hair_top_y[0]) +', Thin hair ' + str(hair_top_y[1])+', Thick hair ' + str(hair_top_y[2])\n",
        "+', Not Visible ' + str(hair_top_y[3]))"
      ],
      "execution_count": null,
      "outputs": [
        {
          "output_type": "stream",
          "text": [
            "Distribution of wrinkles: No Wrinkles 1391, Wrinkles 1398\n",
            "Distribution of freakles: No Freakles 1924, Freakles 1892\n",
            "Distribution of glasses: No Glasses 1700, Glasses 1609 Sunglasses 1696\n",
            "Distribution of hair color: Brown 597, Black 594, Gray 592, Blond 610, Red 508, White 572, Mixed 599, Other 598, Not Visible 557\n",
            "Distribution of hair top: Bald/Shaved 1526, Thin hair 1376, Thick hair 1532, Not Visible 1428\n"
          ],
          "name": "stdout"
        },
        {
          "output_type": "display_data",
          "data": {
            "image/png": "[encoded data removed]",
            "text/plain": [
              "<Figure size 1800x720 with 6 Axes>"
            ]
          },
          "metadata": {
            "tags": [],
            "needs_background": "light"
          }
        }
      ]
    },
    {
      "cell_type": "markdown",
      "metadata": {
        "id": "VxTYZz7KDdcx"
      },
      "source": [
        "**Split between training and test datasets**"
      ]
    },
    {
      "cell_type": "code",
      "metadata": {
        "id": "a76PTKWqCyIk"
      },
      "source": [
        "X_train_wr, X_test_wr, y_train_wr, y_test_wr = train_test_split(images_wr_aug, labels_wr_aug, test_size=0.2, random_state=42)\n",
        "\n",
        "X_train_fr, X_test_fr, y_train_fr, y_test_fr = train_test_split(images_fr_aug, labels_fr_aug, test_size=0.2, random_state=42)\n",
        "\n",
        "X_train_gl, X_test_gl, y_train_gl, y_test_gl = train_test_split(images_gl_aug, labels_gl_aug, test_size=0.2, random_state=42)\n",
        "\n",
        "X_train_hc, X_test_hc, y_train_hc, y_test_hc = train_test_split(images_hc_aug, labels_hc_aug, test_size=0.2, random_state=42)\n",
        "\n",
        "X_train_ht, X_test_ht, y_train_ht, y_test_ht = train_test_split(images_ht_aug, labels_ht_aug, test_size=0.2, random_state=42)"
      ],
      "execution_count": null,
      "outputs": []
    },
    {
      "cell_type": "code",
      "metadata": {
        "id": "rSfNys71D0ag"
      },
      "source": [
        "image_input = Input(shape=(224,224,3), name='image')\n",
        "preproc_img = Lambda(lambda x: x / 255)(image_input) # normalising\n",
        "data_augmentation = Sequential(\n",
        "    [   #preprocessing.Resizing(height=32, width=32, interpolation=\"bilinear\"),\n",
        "        experimental.preprocessing.RandomFlip(\"horizontal\"),\n",
        "        experimental.preprocessing.RandomRotation(0.1),\n",
        "        experimental.preprocessing.RandomZoom(0.1),\n",
        "    ]\n",
        ")(preproc_img)\n",
        "\n",
        "\n",
        "# load model without classifier layers\n",
        "model = VGG16(include_top=False, weights=\"imagenet\", input_tensor=data_augmentation) \n",
        "    \n",
        "### If we want to freeze these pretrained weights:\n",
        "for layer in model.layers:\n",
        "  layer.trainable = False     # mark loaded layers as not trainable\n",
        "\n",
        "# add new classifier layers\n",
        "flat1 = layers.Flatten()(model.layers[-1].output)\n",
        "fc1 = layers.Dense(256, activation='relu')(flat1)\n",
        "fc2 = layers.Dense(256, activation='relu')(fc1)\n",
        "wrinkles_pred = Dense(1, activation='sigmoid',name='wrinkles')(fc2)\n",
        "#freakles_pred = Dense(1, activation='sigmoid',name='freakles')(fc2)\n",
        "#glasses_pred = Dense(3, activation='softmax',name='glasses')(fc2)\n",
        "#hair_color_pred = Dense(9, activation='softmax',name='hair_color')(fc2)\n",
        "#hair_top_pred = Dense(4, activation='softmax',name='hair_top')(fc2)\n",
        "\n",
        "\n",
        "model_wr = Model(\n",
        "    inputs = model.inputs,\n",
        "    #outputs = [wrinkles_pred, freakles_pred, glasses_pred, hair_color_pred, hair_top_pred])\n",
        "    outputs = wrinkles_pred)\n",
        "model_wr.summary()"
      ],
      "execution_count": null,
      "outputs": []
    },
    {
      "cell_type": "code",
      "metadata": {
        "id": "IqJZaPvBYU2l"
      },
      "source": [
        "\n",
        "\n",
        "# load model without classifier layers\n",
        "#model = VGG16(include_top=False, weights=\"imagenet\", input_tensor=preproc_img) \n",
        "model = VGG16(include_top=False, weights=\"imagenet\", input_tensor=data_augmentation) \n",
        "\n",
        "### If we want to freeze these pretrained weights:\n",
        "for layer in model.layers:\n",
        "  layer.trainable = False     # mark loaded layers as not trainable\n",
        "\n",
        "# add new classifier layers\n",
        "flat1 = layers.Flatten()(model.layers[-1].output)\n",
        "fc1 = layers.Dense(256, activation='relu')(flat1)\n",
        "fc2 = layers.Dense(256, activation='relu')(fc1)\n",
        "#wrinkles_pred = Dense(1, activation='sigmoid',name='wrinkles')(fc2)\n",
        "freakles_pred = Dense(1, activation='sigmoid',name='freakles')(fc2)\n",
        "#glasses_pred = Dense(3, activation='softmax',name='glasses')(fc2)\n",
        "#hair_color_pred = Dense(9, activation='softmax',name='hair_color')(fc2)\n",
        "#hair_top_pred = Dense(4, activation='softmax',name='hair_top')(fc2)\n",
        "\n",
        "\n",
        "model_fr = Model(\n",
        "    inputs = model.inputs,\n",
        "    #outputs = [wrinkles_pred, freakles_pred, glasses_pred, hair_color_pred, hair_top_pred])\n",
        "    outputs = freakles_pred)\n",
        "#model_fr.summary()"
      ],
      "execution_count": null,
      "outputs": []
    },
    {
      "cell_type": "code",
      "metadata": {
        "id": "qiieNwTlVCO-"
      },
      "source": [
        "\n",
        "\n",
        "# load model without classifier layers\n",
        "model = VGG16(include_top=False, weights=\"imagenet\", input_tensor=data_augmentation) \n",
        "    \n",
        "### If we want to freeze these pretrained weights:\n",
        "for layer in model.layers:\n",
        "  layer.trainable = False     # mark loaded layers as not trainable\n",
        "\n",
        "# add new classifier layers\n",
        "flat1 = layers.Flatten()(model.layers[-1].output)\n",
        "fc1 = layers.Dense(256, activation='relu')(flat1)\n",
        "fc2 = layers.Dense(256, activation='relu')(fc1)\n",
        "#wrinkles_pred = Dense(1, activation='sigmoid',name='wrinkles')(fc2)\n",
        "#freakles_pred = Dense(1, activation='sigmoid',name='freakles')(fc2)\n",
        "glasses_pred = Dense(3, activation='softmax',name='glasses')(fc2)\n",
        "#hair_color_pred = Dense(9, activation='softmax',name='hair_color')(fc2)\n",
        "#hair_top_pred = Dense(4, activation='softmax',name='hair_top')(fc2)\n",
        "\n",
        "\n",
        "model_gl = Model(\n",
        "    inputs = model.inputs,\n",
        "    #outputs = [wrinkles_pred, freakles_pred, glasses_pred, hair_color_pred, hair_top_pred])\n",
        "    outputs = glasses_pred)\n",
        "#model_gl.summary()"
      ],
      "execution_count": null,
      "outputs": []
    },
    {
      "cell_type": "code",
      "metadata": {
        "id": "yXSeF2yzVKt9"
      },
      "source": [
        "\n",
        "\n",
        "# load model without classifier layers\n",
        "model = VGG16(include_top=False, weights=\"imagenet\", input_tensor=data_augmentation) \n",
        "    \n",
        "### If we want to freeze these pretrained weights:\n",
        "for layer in model.layers:\n",
        "  layer.trainable = False     # mark loaded layers as not trainable\n",
        "\n",
        "# add new classifier layers\n",
        "flat1 = layers.Flatten()(model.layers[-1].output)\n",
        "fc1 = layers.Dense(256, activation='relu')(flat1)\n",
        "fc2 = layers.Dense(256, activation='relu')(fc1)\n",
        "#wrinkles_pred = Dense(1, activation='sigmoid',name='wrinkles')(fc2)\n",
        "#freakles_pred = Dense(1, activation='sigmoid',name='freakles')(fc2)\n",
        "#glasses_pred = Dense(3, activation='softmax',name='glasses')(fc2)\n",
        "hair_color_pred = Dense(9, activation='softmax',name='hair_color')(fc2)\n",
        "#hair_top_pred = Dense(4, activation='softmax',name='hair_top')(fc2)\n",
        "\n",
        "model_hc = Model(\n",
        "    inputs = model.inputs,\n",
        "    #outputs = [wrinkles_pred, freakles_pred, glasses_pred, hair_color_pred, hair_top_pred])\n",
        "    outputs = hair_color_pred)\n",
        "#model_hc.summary()"
      ],
      "execution_count": null,
      "outputs": []
    },
    {
      "cell_type": "code",
      "metadata": {
        "id": "Qalvy27iVgxy"
      },
      "source": [
        "\n",
        "\n",
        "# load model without classifier layers\n",
        "model = VGG16(include_top=False, weights=\"imagenet\", input_tensor=data_augmentation) \n",
        "    \n",
        "### If we want to freeze these pretrained weights:\n",
        "for layer in model.layers:\n",
        "  layer.trainable = False     # mark loaded layers as not trainable\n",
        "\n",
        "# add new classifier layers\n",
        "flat1 = layers.Flatten()(model.layers[-1].output)\n",
        "fc1 = layers.Dense(256, activation='relu')(flat1)\n",
        "fc2 = layers.Dense(256, activation='relu')(fc1)\n",
        "#wrinkles_pred = Dense(1, activation='sigmoid',name='wrinkles')(fc2)\n",
        "#freakles_pred = Dense(1, activation='sigmoid',name='freakles')(fc2)\n",
        "#glasses_pred = Dense(3, activation='softmax',name='glasses')(fc2)\n",
        "#hair_color_pred = Dense(9, activation='softmax',name='hair_color')(fc2)\n",
        "hair_top_pred = Dense(4, activation='softmax',name='hair_top')(fc2)\n",
        "\n",
        "\n",
        "model_ht = Model(\n",
        "    inputs = model.inputs,\n",
        "    #outputs = [wrinkles_pred, freakles_pred, glasses_pred, hair_color_pred, hair_top_pred])\n",
        "    outputs = hair_top_pred)\n",
        "#model_ht.summary()"
      ],
      "execution_count": null,
      "outputs": []
    },
    {
      "cell_type": "code",
      "metadata": {
        "id": "j5HRYy4CD0TN"
      },
      "source": [
        "model_wr.compile(\n",
        "    optimizer= Adam(learning_rate=0.0001), #SGD(lr=0.0001),\n",
        "    loss={\n",
        "        \"wrinkles\": losses.BinaryCrossentropy(),\n",
        "        #\"freakles\": losses.BinaryCrossentropy(),\n",
        "        #\"glasses\": losses.SparseCategoricalCrossentropy(),\n",
        "        #\"hair_color\": losses.SparseCategoricalCrossentropy(),\n",
        "        #\"hair_top\": losses.SparseCategoricalCrossentropy(),\n",
        "        },\n",
        "    loss_weights=[0.3], #, 0.2, 0.2, 1.2, 0.2],\n",
        "    metrics=['accuracy'])"
      ],
      "execution_count": null,
      "outputs": []
    },
    {
      "cell_type": "code",
      "metadata": {
        "id": "BxlTOInPD0QD"
      },
      "source": [
        "model_fr.compile(\n",
        "    optimizer= Adam(learning_rate=0.0001), #SGD(lr=0.0001),\n",
        "    loss={\n",
        "        #\"wrinkles\": losses.BinaryCrossentropy(),\n",
        "        \"freakles\": losses.BinaryCrossentropy(),\n",
        "        #\"glasses\": losses.SparseCategoricalCrossentropy(),\n",
        "        #\"hair_color\": losses.SparseCategoricalCrossentropy(),\n",
        "        #\"hair_top\": losses.SparseCategoricalCrossentropy(),\n",
        "        },\n",
        "    loss_weights=[0.3], #, 0.2, 0.2, 1.2, 0.2],\n",
        "    metrics=['accuracy'])"
      ],
      "execution_count": null,
      "outputs": []
    },
    {
      "cell_type": "code",
      "metadata": {
        "id": "Tj2cxhEZD0Hd"
      },
      "source": [
        "model_gl.compile(\n",
        "    optimizer= Adam(learning_rate=0.0001), #SGD(lr=0.0001),\n",
        "    loss={\n",
        "        #\"wrinkles\": losses.BinaryCrossentropy(),\n",
        "        #\"freakles\": losses.BinaryCrossentropy(),\n",
        "        \"glasses\": losses.SparseCategoricalCrossentropy(),\n",
        "        #\"hair_color\": losses.SparseCategoricalCrossentropy(),\n",
        "        #\"hair_top\": losses.SparseCategoricalCrossentropy(),\n",
        "        },\n",
        "    loss_weights=[0.3], #, 0.2, 0.2, 1.2, 0.2],\n",
        "    metrics=['accuracy'])"
      ],
      "execution_count": null,
      "outputs": []
    },
    {
      "cell_type": "code",
      "metadata": {
        "id": "5gwTwr8WDz8h"
      },
      "source": [
        "model_hc.compile(\n",
        "    optimizer= Adam(learning_rate=0.0001), #SGD(lr=0.0001),\n",
        "    loss={\n",
        "        #\"wrinkles\": losses.BinaryCrossentropy(),\n",
        "        #\"freakles\": losses.BinaryCrossentropy(),\n",
        "        #\"glasses\": losses.SparseCategoricalCrossentropy(),\n",
        "        \"hair_color\": losses.SparseCategoricalCrossentropy(),\n",
        "        #\"hair_top\": losses.SparseCategoricalCrossentropy(),\n",
        "        },\n",
        "    loss_weights=[0.3], #, 0.2, 0.2, 1.2, 0.2],\n",
        "    metrics=['accuracy'])"
      ],
      "execution_count": null,
      "outputs": []
    },
    {
      "cell_type": "code",
      "metadata": {
        "id": "-7SkVLObDzv9"
      },
      "source": [
        "model_ht.compile(\n",
        "    optimizer= Adam(learning_rate=0.0001), #SGD(lr=0.0001),\n",
        "    loss={\n",
        "        #\"wrinkles\": losses.BinaryCrossentropy(),\n",
        "        #\"freakles\": losses.BinaryCrossentropy(),\n",
        "        #\"glasses\": losses.SparseCategoricalCrossentropy(),\n",
        "        #\"hair_color\": losses.SparseCategoricalCrossentropy(),\n",
        "        \"hair_top\": losses.SparseCategoricalCrossentropy(),\n",
        "        },\n",
        "    loss_weights=[0.3], #, 0.2, 0.2, 1.2, 0.2],\n",
        "    metrics=['accuracy'])"
      ],
      "execution_count": null,
      "outputs": []
    },
    {
      "cell_type": "code",
      "metadata": {
        "colab": {
          "base_uri": "https://localhost:8080/"
        },
        "id": "os7Ek0YgWI_T",
        "outputId": "99eb8346-15ee-441a-a68d-84e7087f72cb"
      },
      "source": [
        "history_wr = model_wr.fit(\n",
        "    X_train_wr,\n",
        "    {\"wrinkles\": y_train_wr},\n",
        "     batch_size=32,epochs=20,\n",
        "     validation_data=(X_test_wr,y_test_wr))\n",
        "     #validation_split=0.2)"
      ],
      "execution_count": null,
      "outputs": [
        {
          "output_type": "stream",
          "text": [
            "Epoch 1/20\n",
            "70/70 [==============================] - 28s 136ms/step - loss: 0.1905 - accuracy: 0.6225 - val_loss: 0.1278 - val_accuracy: 0.8047\n",
            "Epoch 2/20\n",
            "70/70 [==============================] - 5s 78ms/step - loss: 0.1224 - accuracy: 0.8098 - val_loss: 0.1083 - val_accuracy: 0.8423\n",
            "Epoch 3/20\n",
            "70/70 [==============================] - 5s 78ms/step - loss: 0.1082 - accuracy: 0.8417 - val_loss: 0.1062 - val_accuracy: 0.8315\n",
            "Epoch 4/20\n",
            "70/70 [==============================] - 5s 78ms/step - loss: 0.0982 - accuracy: 0.8561 - val_loss: 0.1116 - val_accuracy: 0.8351\n",
            "Epoch 5/20\n",
            "70/70 [==============================] - 5s 78ms/step - loss: 0.0905 - accuracy: 0.8773 - val_loss: 0.1056 - val_accuracy: 0.8405\n",
            "Epoch 6/20\n",
            "70/70 [==============================] - 5s 78ms/step - loss: 0.0851 - accuracy: 0.8807 - val_loss: 0.1201 - val_accuracy: 0.7957\n",
            "Epoch 7/20\n",
            "70/70 [==============================] - 5s 78ms/step - loss: 0.0947 - accuracy: 0.8657 - val_loss: 0.1154 - val_accuracy: 0.8351\n",
            "Epoch 8/20\n",
            "70/70 [==============================] - 5s 78ms/step - loss: 0.1036 - accuracy: 0.8421 - val_loss: 0.1171 - val_accuracy: 0.8154\n",
            "Epoch 9/20\n",
            "70/70 [==============================] - 5s 78ms/step - loss: 0.0929 - accuracy: 0.8583 - val_loss: 0.1082 - val_accuracy: 0.8513\n",
            "Epoch 10/20\n",
            "70/70 [==============================] - 5s 78ms/step - loss: 0.0736 - accuracy: 0.8877 - val_loss: 0.1056 - val_accuracy: 0.8477\n",
            "Epoch 11/20\n",
            "70/70 [==============================] - 5s 78ms/step - loss: 0.0794 - accuracy: 0.8859 - val_loss: 0.1140 - val_accuracy: 0.8154\n",
            "Epoch 12/20\n",
            "70/70 [==============================] - 5s 78ms/step - loss: 0.0806 - accuracy: 0.8859 - val_loss: 0.1049 - val_accuracy: 0.8405\n",
            "Epoch 13/20\n",
            "70/70 [==============================] - 5s 78ms/step - loss: 0.0784 - accuracy: 0.8933 - val_loss: 0.1164 - val_accuracy: 0.8351\n",
            "Epoch 14/20\n",
            "70/70 [==============================] - 5s 78ms/step - loss: 0.0663 - accuracy: 0.9046 - val_loss: 0.1058 - val_accuracy: 0.8495\n",
            "Epoch 15/20\n",
            "70/70 [==============================] - 5s 78ms/step - loss: 0.0627 - accuracy: 0.9143 - val_loss: 0.1104 - val_accuracy: 0.8333\n",
            "Epoch 16/20\n",
            "70/70 [==============================] - 5s 78ms/step - loss: 0.0597 - accuracy: 0.9144 - val_loss: 0.1047 - val_accuracy: 0.8477\n",
            "Epoch 17/20\n",
            "70/70 [==============================] - 5s 78ms/step - loss: 0.0543 - accuracy: 0.9299 - val_loss: 0.1311 - val_accuracy: 0.8082\n",
            "Epoch 18/20\n",
            "70/70 [==============================] - 5s 78ms/step - loss: 0.0596 - accuracy: 0.9242 - val_loss: 0.1085 - val_accuracy: 0.8423\n",
            "Epoch 19/20\n",
            "70/70 [==============================] - 5s 78ms/step - loss: 0.0537 - accuracy: 0.9316 - val_loss: 0.1299 - val_accuracy: 0.8065\n",
            "Epoch 20/20\n",
            "70/70 [==============================] - 5s 78ms/step - loss: 0.0536 - accuracy: 0.9301 - val_loss: 0.1071 - val_accuracy: 0.8405\n"
          ],
          "name": "stdout"
        }
      ]
    },
    {
      "cell_type": "code",
      "metadata": {
        "colab": {
          "base_uri": "https://localhost:8080/"
        },
        "id": "mPsEL5LfWX6B",
        "outputId": "adf396fe-a078-48ab-b851-3115d2d81504"
      },
      "source": [
        "history_fr = model_fr.fit(\n",
        "    X_train_fr,\n",
        "    {\"freakles\": y_train_fr},\n",
        "     batch_size=32,epochs=20,\n",
        "     validation_data=(X_test_fr,y_test_fr))\n",
        "     #validation_split=0.2)"
      ],
      "execution_count": null,
      "outputs": [
        {
          "output_type": "stream",
          "text": [
            "Epoch 1/20\n",
            "96/96 [==============================] - 12s 113ms/step - loss: 0.0953 - accuracy: 0.8583 - val_loss: 0.0031 - val_accuracy: 0.9961\n",
            "Epoch 2/20\n",
            "96/96 [==============================] - 7s 77ms/step - loss: 0.0040 - accuracy: 0.9981 - val_loss: 0.0029 - val_accuracy: 0.9974\n",
            "Epoch 3/20\n",
            "96/96 [==============================] - 7s 77ms/step - loss: 0.0026 - accuracy: 0.9977 - val_loss: 0.0015 - val_accuracy: 0.9974\n",
            "Epoch 4/20\n",
            "96/96 [==============================] - 7s 77ms/step - loss: 0.0010 - accuracy: 0.9996 - val_loss: 0.0017 - val_accuracy: 0.9974\n",
            "Epoch 5/20\n",
            "96/96 [==============================] - 7s 77ms/step - loss: 0.0011 - accuracy: 0.9999 - val_loss: 6.6707e-04 - val_accuracy: 0.9987\n",
            "Epoch 6/20\n",
            "96/96 [==============================] - 7s 77ms/step - loss: 0.0011 - accuracy: 0.9993 - val_loss: 3.8988e-04 - val_accuracy: 1.0000\n",
            "Epoch 7/20\n",
            "96/96 [==============================] - 7s 77ms/step - loss: 7.1257e-04 - accuracy: 1.0000 - val_loss: 0.0011 - val_accuracy: 0.9974\n",
            "Epoch 8/20\n",
            "96/96 [==============================] - 7s 77ms/step - loss: 0.0021 - accuracy: 0.9980 - val_loss: 4.0974e-04 - val_accuracy: 1.0000\n",
            "Epoch 9/20\n",
            "96/96 [==============================] - 7s 77ms/step - loss: 3.7745e-04 - accuracy: 1.0000 - val_loss: 1.9480e-04 - val_accuracy: 1.0000\n",
            "Epoch 10/20\n",
            "96/96 [==============================] - 7s 77ms/step - loss: 5.7885e-05 - accuracy: 1.0000 - val_loss: 5.4425e-04 - val_accuracy: 1.0000\n",
            "Epoch 11/20\n",
            "96/96 [==============================] - 7s 77ms/step - loss: 8.1424e-04 - accuracy: 0.9994 - val_loss: 7.6346e-04 - val_accuracy: 0.9987\n",
            "Epoch 12/20\n",
            "96/96 [==============================] - 7s 77ms/step - loss: 6.3628e-04 - accuracy: 0.9994 - val_loss: 3.7936e-04 - val_accuracy: 0.9987\n",
            "Epoch 13/20\n",
            "96/96 [==============================] - 7s 77ms/step - loss: 0.0015 - accuracy: 0.9988 - val_loss: 0.0048 - val_accuracy: 0.9974\n",
            "Epoch 14/20\n",
            "96/96 [==============================] - 7s 77ms/step - loss: 0.0122 - accuracy: 0.9867 - val_loss: 8.3637e-04 - val_accuracy: 0.9987\n",
            "Epoch 15/20\n",
            "96/96 [==============================] - 7s 77ms/step - loss: 0.0022 - accuracy: 0.9988 - val_loss: 7.6807e-04 - val_accuracy: 0.9974\n",
            "Epoch 16/20\n",
            "96/96 [==============================] - 7s 77ms/step - loss: 1.0685e-04 - accuracy: 1.0000 - val_loss: 0.0019 - val_accuracy: 0.9987\n",
            "Epoch 17/20\n",
            "96/96 [==============================] - 7s 77ms/step - loss: 0.0018 - accuracy: 0.9976 - val_loss: 1.6434e-04 - val_accuracy: 1.0000\n",
            "Epoch 18/20\n",
            "96/96 [==============================] - 7s 77ms/step - loss: 5.8035e-04 - accuracy: 0.9996 - val_loss: 1.7047e-04 - val_accuracy: 1.0000\n",
            "Epoch 19/20\n",
            "96/96 [==============================] - 7s 77ms/step - loss: 8.2931e-04 - accuracy: 0.9993 - val_loss: 8.7125e-05 - val_accuracy: 1.0000\n",
            "Epoch 20/20\n",
            "96/96 [==============================] - 7s 77ms/step - loss: 6.8191e-04 - accuracy: 0.9991 - val_loss: 0.0011 - val_accuracy: 0.9974\n"
          ],
          "name": "stdout"
        }
      ]
    },
    {
      "cell_type": "code",
      "metadata": {
        "colab": {
          "base_uri": "https://localhost:8080/"
        },
        "id": "2QK2Sy8hWfYE",
        "outputId": "697319f4-aba7-41fc-f94b-0ac963c10af1"
      },
      "source": [
        "history_gl = model_gl.fit(\n",
        "    X_train_gl,\n",
        "    {\"glasses\": y_train_gl},\n",
        "     batch_size=32,epochs=20,\n",
        "     validation_data=(X_test_gl,y_test_gl))\n",
        "     #validation_split=0.2)"
      ],
      "execution_count": null,
      "outputs": [
        {
          "output_type": "stream",
          "text": [
            "Epoch 1/20\n",
            "125/125 [==============================] - 14s 108ms/step - loss: 0.2137 - accuracy: 0.6657 - val_loss: 0.0495 - val_accuracy: 0.9500\n",
            "Epoch 2/20\n",
            "125/125 [==============================] - 10s 77ms/step - loss: 0.0493 - accuracy: 0.9563 - val_loss: 0.0216 - val_accuracy: 0.9800\n",
            "Epoch 3/20\n",
            "125/125 [==============================] - 10s 77ms/step - loss: 0.0283 - accuracy: 0.9735 - val_loss: 0.0147 - val_accuracy: 0.9850\n",
            "Epoch 4/20\n",
            "125/125 [==============================] - 10s 77ms/step - loss: 0.0232 - accuracy: 0.9784 - val_loss: 0.0114 - val_accuracy: 0.9870\n",
            "Epoch 5/20\n",
            "125/125 [==============================] - 10s 77ms/step - loss: 0.0127 - accuracy: 0.9896 - val_loss: 0.0114 - val_accuracy: 0.9860\n",
            "Epoch 6/20\n",
            "125/125 [==============================] - 10s 77ms/step - loss: 0.0116 - accuracy: 0.9880 - val_loss: 0.0167 - val_accuracy: 0.9810\n",
            "Epoch 7/20\n",
            "125/125 [==============================] - 10s 77ms/step - loss: 0.0124 - accuracy: 0.9882 - val_loss: 0.0132 - val_accuracy: 0.9850\n",
            "Epoch 8/20\n",
            "125/125 [==============================] - 10s 77ms/step - loss: 0.0106 - accuracy: 0.9908 - val_loss: 0.0120 - val_accuracy: 0.9840\n",
            "Epoch 9/20\n",
            "125/125 [==============================] - 10s 77ms/step - loss: 0.0097 - accuracy: 0.9896 - val_loss: 0.0157 - val_accuracy: 0.9820\n",
            "Epoch 10/20\n",
            "125/125 [==============================] - 10s 77ms/step - loss: 0.0076 - accuracy: 0.9922 - val_loss: 0.0096 - val_accuracy: 0.9880\n",
            "Epoch 11/20\n",
            "125/125 [==============================] - 10s 77ms/step - loss: 0.0056 - accuracy: 0.9948 - val_loss: 0.0177 - val_accuracy: 0.9820\n",
            "Epoch 12/20\n",
            "125/125 [==============================] - 10s 77ms/step - loss: 0.0050 - accuracy: 0.9958 - val_loss: 0.0090 - val_accuracy: 0.9870\n",
            "Epoch 13/20\n",
            "125/125 [==============================] - 10s 77ms/step - loss: 0.0053 - accuracy: 0.9932 - val_loss: 0.0101 - val_accuracy: 0.9900\n",
            "Epoch 14/20\n",
            "125/125 [==============================] - 10s 78ms/step - loss: 0.0136 - accuracy: 0.9865 - val_loss: 0.0081 - val_accuracy: 0.9890\n",
            "Epoch 15/20\n",
            "125/125 [==============================] - 10s 77ms/step - loss: 0.0072 - accuracy: 0.9927 - val_loss: 0.0212 - val_accuracy: 0.9760\n",
            "Epoch 16/20\n",
            "125/125 [==============================] - 10s 78ms/step - loss: 0.0145 - accuracy: 0.9847 - val_loss: 0.0098 - val_accuracy: 0.9870\n",
            "Epoch 17/20\n",
            "125/125 [==============================] - 10s 78ms/step - loss: 0.0049 - accuracy: 0.9955 - val_loss: 0.0115 - val_accuracy: 0.9840\n",
            "Epoch 18/20\n",
            "125/125 [==============================] - 10s 77ms/step - loss: 0.0064 - accuracy: 0.9944 - val_loss: 0.0098 - val_accuracy: 0.9880\n",
            "Epoch 19/20\n",
            "125/125 [==============================] - 10s 77ms/step - loss: 0.0026 - accuracy: 0.9965 - val_loss: 0.0091 - val_accuracy: 0.9880\n",
            "Epoch 20/20\n",
            "125/125 [==============================] - 10s 78ms/step - loss: 0.0035 - accuracy: 0.9966 - val_loss: 0.0104 - val_accuracy: 0.9890\n"
          ],
          "name": "stdout"
        }
      ]
    },
    {
      "cell_type": "code",
      "metadata": {
        "colab": {
          "base_uri": "https://localhost:8080/"
        },
        "id": "X-8nyoBsWI7d",
        "outputId": "39dae83f-8106-4bd1-fac5-e923c5c5df5b"
      },
      "source": [
        "history_hc = model_hc.fit(\n",
        "    X_train_hc,\n",
        "    {\"hair_color\": y_train_hc},\n",
        "     batch_size=32,epochs=20,\n",
        "     validation_data=(X_test_hc,y_test_hc))\n",
        "     #validation_split=0.2)"
      ],
      "execution_count": null,
      "outputs": [
        {
          "output_type": "stream",
          "text": [
            "Epoch 1/20\n",
            "131/131 [==============================] - 15s 110ms/step - loss: 0.5918 - accuracy: 0.2751 - val_loss: 0.4010 - val_accuracy: 0.5277\n",
            "Epoch 2/20\n",
            "131/131 [==============================] - 10s 77ms/step - loss: 0.3907 - accuracy: 0.5385 - val_loss: 0.3543 - val_accuracy: 0.5975\n",
            "Epoch 3/20\n",
            "131/131 [==============================] - 10s 77ms/step - loss: 0.3263 - accuracy: 0.6238 - val_loss: 0.3114 - val_accuracy: 0.6291\n",
            "Epoch 4/20\n",
            "131/131 [==============================] - 10s 78ms/step - loss: 0.2757 - accuracy: 0.6786 - val_loss: 0.2816 - val_accuracy: 0.6577\n",
            "Epoch 5/20\n",
            "131/131 [==============================] - 10s 77ms/step - loss: 0.2510 - accuracy: 0.7127 - val_loss: 0.2705 - val_accuracy: 0.6883\n",
            "Epoch 6/20\n",
            "131/131 [==============================] - 10s 77ms/step - loss: 0.2347 - accuracy: 0.7314 - val_loss: 0.2733 - val_accuracy: 0.6769\n",
            "Epoch 7/20\n",
            "131/131 [==============================] - 10s 78ms/step - loss: 0.2189 - accuracy: 0.7483 - val_loss: 0.2623 - val_accuracy: 0.6855\n",
            "Epoch 8/20\n",
            "131/131 [==============================] - 10s 78ms/step - loss: 0.1917 - accuracy: 0.7837 - val_loss: 0.2423 - val_accuracy: 0.6998\n",
            "Epoch 9/20\n",
            "131/131 [==============================] - 10s 78ms/step - loss: 0.1740 - accuracy: 0.8014 - val_loss: 0.2266 - val_accuracy: 0.7256\n",
            "Epoch 10/20\n",
            "131/131 [==============================] - 10s 77ms/step - loss: 0.1681 - accuracy: 0.8109 - val_loss: 0.2363 - val_accuracy: 0.7027\n",
            "Epoch 11/20\n",
            "131/131 [==============================] - 10s 78ms/step - loss: 0.1617 - accuracy: 0.8053 - val_loss: 0.2264 - val_accuracy: 0.7228\n",
            "Epoch 12/20\n",
            "131/131 [==============================] - 10s 77ms/step - loss: 0.1538 - accuracy: 0.8207 - val_loss: 0.2184 - val_accuracy: 0.7409\n",
            "Epoch 13/20\n",
            "131/131 [==============================] - 10s 78ms/step - loss: 0.1427 - accuracy: 0.8430 - val_loss: 0.2167 - val_accuracy: 0.7495\n",
            "Epoch 14/20\n",
            "131/131 [==============================] - 10s 77ms/step - loss: 0.1320 - accuracy: 0.8477 - val_loss: 0.2207 - val_accuracy: 0.7314\n",
            "Epoch 15/20\n",
            "131/131 [==============================] - 10s 77ms/step - loss: 0.1276 - accuracy: 0.8518 - val_loss: 0.2212 - val_accuracy: 0.7457\n",
            "Epoch 16/20\n",
            "131/131 [==============================] - 10s 77ms/step - loss: 0.1234 - accuracy: 0.8598 - val_loss: 0.2724 - val_accuracy: 0.7017\n",
            "Epoch 17/20\n",
            "131/131 [==============================] - 10s 78ms/step - loss: 0.1359 - accuracy: 0.8434 - val_loss: 0.2134 - val_accuracy: 0.7505\n",
            "Epoch 18/20\n",
            "131/131 [==============================] - 10s 77ms/step - loss: 0.1046 - accuracy: 0.8830 - val_loss: 0.2076 - val_accuracy: 0.7495\n",
            "Epoch 19/20\n",
            "131/131 [==============================] - 10s 78ms/step - loss: 0.1086 - accuracy: 0.8788 - val_loss: 0.2225 - val_accuracy: 0.7486\n",
            "Epoch 20/20\n",
            "131/131 [==============================] - 10s 78ms/step - loss: 0.1030 - accuracy: 0.8804 - val_loss: 0.1940 - val_accuracy: 0.7600\n"
          ],
          "name": "stdout"
        }
      ]
    },
    {
      "cell_type": "code",
      "metadata": {
        "colab": {
          "base_uri": "https://localhost:8080/"
        },
        "id": "GbcePHr6WI3r",
        "outputId": "40a67fb2-587c-4ea6-a845-785e492f9d81"
      },
      "source": [
        "history_ht = model_ht.fit(\n",
        "    X_train_ht,\n",
        "    {\"hair_top\": y_train_ht},\n",
        "     batch_size=32,epochs=20,\n",
        "     validation_data=(X_test_ht,y_test_ht))\n",
        "     #validation_split=0.2)"
      ],
      "execution_count": null,
      "outputs": [
        {
          "output_type": "stream",
          "text": [
            "Epoch 1/20\n",
            "147/147 [==============================] - 14s 89ms/step - loss: 0.3448 - accuracy: 0.4757 - val_loss: 0.1729 - val_accuracy: 0.8055\n",
            "Epoch 2/20\n",
            "147/147 [==============================] - 11s 77ms/step - loss: 0.1958 - accuracy: 0.7510 - val_loss: 0.1199 - val_accuracy: 0.8635\n",
            "Epoch 3/20\n",
            "147/147 [==============================] - 11s 77ms/step - loss: 0.1311 - accuracy: 0.8465 - val_loss: 0.0984 - val_accuracy: 0.8823\n",
            "Epoch 4/20\n",
            "147/147 [==============================] - 11s 77ms/step - loss: 0.1039 - accuracy: 0.8726 - val_loss: 0.0832 - val_accuracy: 0.9155\n",
            "Epoch 5/20\n",
            "147/147 [==============================] - 11s 77ms/step - loss: 0.0923 - accuracy: 0.8911 - val_loss: 0.0874 - val_accuracy: 0.8899\n",
            "Epoch 6/20\n",
            "147/147 [==============================] - 11s 77ms/step - loss: 0.0741 - accuracy: 0.9166 - val_loss: 0.0729 - val_accuracy: 0.9138\n",
            "Epoch 7/20\n",
            "147/147 [==============================] - 11s 77ms/step - loss: 0.0634 - accuracy: 0.9299 - val_loss: 0.0756 - val_accuracy: 0.9061\n",
            "Epoch 8/20\n",
            "147/147 [==============================] - 11s 77ms/step - loss: 0.0637 - accuracy: 0.9306 - val_loss: 0.0764 - val_accuracy: 0.9044\n",
            "Epoch 9/20\n",
            "147/147 [==============================] - 11s 77ms/step - loss: 0.0574 - accuracy: 0.9334 - val_loss: 0.0671 - val_accuracy: 0.9087\n",
            "Epoch 10/20\n",
            "147/147 [==============================] - 11s 77ms/step - loss: 0.0520 - accuracy: 0.9422 - val_loss: 0.0615 - val_accuracy: 0.9241\n",
            "Epoch 11/20\n",
            "147/147 [==============================] - 11s 77ms/step - loss: 0.0450 - accuracy: 0.9522 - val_loss: 0.0512 - val_accuracy: 0.9377\n",
            "Epoch 12/20\n",
            "147/147 [==============================] - 11s 77ms/step - loss: 0.0481 - accuracy: 0.9452 - val_loss: 0.0591 - val_accuracy: 0.9309\n",
            "Epoch 13/20\n",
            "147/147 [==============================] - 11s 77ms/step - loss: 0.0384 - accuracy: 0.9601 - val_loss: 0.0576 - val_accuracy: 0.9266\n",
            "Epoch 14/20\n",
            "147/147 [==============================] - 11s 77ms/step - loss: 0.0360 - accuracy: 0.9564 - val_loss: 0.0647 - val_accuracy: 0.9241\n",
            "Epoch 15/20\n",
            "147/147 [==============================] - 11s 77ms/step - loss: 0.0408 - accuracy: 0.9540 - val_loss: 0.0589 - val_accuracy: 0.9275\n",
            "Epoch 16/20\n",
            "147/147 [==============================] - 11s 77ms/step - loss: 0.0351 - accuracy: 0.9635 - val_loss: 0.0618 - val_accuracy: 0.9224\n",
            "Epoch 17/20\n",
            "147/147 [==============================] - 11s 77ms/step - loss: 0.0348 - accuracy: 0.9539 - val_loss: 0.0639 - val_accuracy: 0.9215\n",
            "Epoch 18/20\n",
            "147/147 [==============================] - 11s 77ms/step - loss: 0.0306 - accuracy: 0.9641 - val_loss: 0.0612 - val_accuracy: 0.9275\n",
            "Epoch 19/20\n",
            "147/147 [==============================] - 11s 77ms/step - loss: 0.0294 - accuracy: 0.9654 - val_loss: 0.0545 - val_accuracy: 0.9343\n",
            "Epoch 20/20\n",
            "147/147 [==============================] - 11s 77ms/step - loss: 0.0288 - accuracy: 0.9687 - val_loss: 0.0450 - val_accuracy: 0.9471\n"
          ],
          "name": "stdout"
        }
      ]
    },
    {
      "cell_type": "code",
      "metadata": {
        "colab": {
          "base_uri": "https://localhost:8080/",
          "height": 634
        },
        "id": "875Jm6ZPWIze",
        "outputId": "ed199adc-63b2-4267-a5c1-d6fa80d244ed"
      },
      "source": [
        "fig, axs = plt.subplots(3, 2,figsize=(15,10))#, sharex= True,sharey=True)\n",
        "fig.suptitle('Evaluation')\n",
        "axs[0, 0].plot(history_wr.history['accuracy'], label='wrinkles_accuracy')\n",
        "axs[0, 0].plot(history_wr.history['val_accuracy'], label = 'val_wrinkles_accuracy')\n",
        "axs[0, 0].plot(history_wr.history['loss'], label='wrinkles_loss')\n",
        "axs[0, 0].plot(history_wr.history['val_loss'], label = 'val_wrinkles_loss')\n",
        "axs[0, 0].legend(loc='best')\n",
        "axs[0, 1].plot(history_fr.history['accuracy'], label='freakles_accuracy')\n",
        "axs[0, 1].plot(history_fr.history['val_accuracy'], label = 'val_freakles_accuracy')\n",
        "axs[0, 1].plot(history_fr.history['loss'], label='freakles_loss')\n",
        "axs[0, 1].plot(history_fr.history['val_loss'], label = 'val_freakles_loss')\n",
        "axs[0, 1].legend(loc='best')\n",
        "axs[1, 0].plot(history_gl.history['accuracy'], label='glasses_accuracy')\n",
        "axs[1, 0].plot(history_gl.history['val_accuracy'], label = 'val_glasses_accuracy')\n",
        "axs[1, 0].plot(history_gl.history['loss'], label='glasses_loss')\n",
        "axs[1, 0].plot(history_gl.history['val_loss'], label = 'val_glasses_loss')\n",
        "axs[1, 0].legend(loc='best')\n",
        "axs[1, 1].plot(history_hc.history['accuracy'], label='hair_color_accuracy')\n",
        "axs[1, 1].plot(history_hc.history['val_accuracy'], label = 'val_hair_color_accuracy')\n",
        "axs[1, 1].plot(history_hc.history['loss'], label='hair_color_loss')\n",
        "axs[1, 1].plot(history_hc.history['val_loss'], label = 'val_hair_color_loss')\n",
        "axs[1, 1].legend(loc='best')\n",
        "axs[2, 0].plot(history_ht.history['accuracy'], label='hair_top_accuracy')\n",
        "axs[2, 0].plot(history_ht.history['val_accuracy'], label = 'val_hair_top_accuracy')\n",
        "axs[2, 0].plot(history_ht.history['loss'], label='hair_top_loss')\n",
        "axs[2, 0].plot(history_ht.history['val_loss'], label = 'val_hair_top_loss')\n",
        "axs[2, 0].legend(loc='best')\n",
        "\n",
        "for ax in axs.flat:\n",
        "    ax.set(xlabel='Epoch', ylabel='Accuracy / Loss', )\n",
        "    \n"
      ],
      "execution_count": null,
      "outputs": [
        {
          "output_type": "display_data",
          "data": {
            "image/png": "[encoded data removed]",
            "text/plain": [
              "<Figure size 1080x720 with 6 Axes>"
            ]
          },
          "metadata": {
            "tags": [],
            "needs_background": "light"
          }
        }
      ]
    },
    {
      "cell_type": "code",
      "metadata": {
        "colab": {
          "base_uri": "https://localhost:8080/"
        },
        "id": "9ns9tbxcWIuz",
        "outputId": "e158470c-ff21-43d6-9527-567bac7f5f68"
      },
      "source": [
        "_, train_acc = model_wr.evaluate(X_train_wr, y_train_wr, verbose=0)\n",
        "_, test_acc = model_wr.evaluate(X_test_wr, y_test_wr, verbose=0)\n",
        "print('Evaluation for Wrinkles \\n Train: %.3f, Validation: %.3f' % (train_acc, test_acc))\n"
      ],
      "execution_count": null,
      "outputs": [
        {
          "output_type": "stream",
          "text": [
            "Evaluation for Wrinkles \n",
            " Train: 0.954, Validation: 0.841\n"
          ],
          "name": "stdout"
        }
      ]
    },
    {
      "cell_type": "code",
      "metadata": {
        "colab": {
          "base_uri": "https://localhost:8080/"
        },
        "id": "9GTqRXVapscM",
        "outputId": "431ff5e1-80b5-4660-f15d-5036f6e4985d"
      },
      "source": [
        "_, train_acc = model_fr.evaluate(X_train_fr, y_train_fr, verbose=0)\n",
        "_, test_acc = model_fr.evaluate(X_test_fr, y_test_fr, verbose=0)\n",
        "print('Evaluation for Freakles \\n Train: %.3f, Validation: %.3f' % (train_acc, test_acc))"
      ],
      "execution_count": null,
      "outputs": [
        {
          "output_type": "stream",
          "text": [
            "Evaluation for Freakles \n",
            " Train: 0.999, Validation: 0.997\n"
          ],
          "name": "stdout"
        }
      ]
    },
    {
      "cell_type": "code",
      "metadata": {
        "colab": {
          "base_uri": "https://localhost:8080/"
        },
        "id": "EVfhoT7xpsZX",
        "outputId": "1bb01740-bfab-4693-83d5-f6ee57b95350"
      },
      "source": [
        "_, train_acc = model_gl.evaluate(X_train_gl, y_train_gl, verbose=0)\n",
        "_, test_acc = model_gl.evaluate(X_test_gl, y_test_gl, verbose=0)\n",
        "print('Evaluation for Glasses \\n Train: %.3f, Validation: %.3f' % (train_acc, test_acc))"
      ],
      "execution_count": null,
      "outputs": [
        {
          "output_type": "stream",
          "text": [
            "Evaluation for Glasses \n",
            " Train: 0.999, Validation: 0.989\n"
          ],
          "name": "stdout"
        }
      ]
    },
    {
      "cell_type": "code",
      "metadata": {
        "colab": {
          "base_uri": "https://localhost:8080/"
        },
        "id": "GMLe6oacpsWE",
        "outputId": "0a487699-20d0-42d1-e7c6-38c157047d01"
      },
      "source": [
        "_, train_acc = model_hc.evaluate(X_train_hc, y_train_hc, verbose=0)\n",
        "_, test_acc = model_hc.evaluate(X_test_hc, y_test_hc, verbose=0)\n",
        "print('Evaluation for Hair Color \\n Train: %.3f, Validation: %.3f' % (train_acc, test_acc))"
      ],
      "execution_count": null,
      "outputs": [
        {
          "output_type": "stream",
          "text": [
            "Evaluation for Hair Color \n",
            " Train: 0.939, Validation: 0.760\n"
          ],
          "name": "stdout"
        }
      ]
    },
    {
      "cell_type": "code",
      "metadata": {
        "colab": {
          "base_uri": "https://localhost:8080/"
        },
        "id": "DMstXPXPpsSq",
        "outputId": "c8ee44ec-4850-4bb5-fce7-48d3219d6ecf"
      },
      "source": [
        "_, train_acc = model_ht.evaluate(X_train_ht, y_train_ht, verbose=0)\n",
        "_, test_acc = model_ht.evaluate(X_test_ht, y_test_ht, verbose=0)\n",
        "print('Evaluation for Hair Top \\n Train: %.3f, Validation: %.3f' % (train_acc, test_acc))"
      ],
      "execution_count": null,
      "outputs": [
        {
          "output_type": "stream",
          "text": [
            "Evaluation for Hair Top \n",
            " Train: 0.990, Validation: 0.947\n"
          ],
          "name": "stdout"
        }
      ]
    },
    {
      "cell_type": "code",
      "metadata": {
        "colab": {
          "base_uri": "https://localhost:8080/"
        },
        "id": "lYi-PCsRpsPZ",
        "outputId": "da1cb885-942e-4f92-eeca-400d4347b98e"
      },
      "source": [
        "model_path = \"/content/model/\"\n",
        "if os.path.exists(model_path):\n",
        "  shutil.rmtree(model_path)\n",
        "  Path(model_path).mkdir()\n",
        "else:\n",
        "  Path(model_path).mkdir()\n",
        "\n",
        "model_wr.save(model_path + \"model_wrinkles\")\n",
        "model_fr.save(model_path + \"model_freakles\")\n",
        "model_gl.save(model_path + \"model_glasses\")\n",
        "model_hc.save(model_path + \"model_hair_color\")\n",
        "model_ht.save(model_path + \"model_hair_top\")\n",
        "\n",
        "model_wr.save_weights(model_path + \"model_weights_wrinkles\")\n",
        "model_fr.save_weights(model_path + \"model_weights_freakles\")\n",
        "model_gl.save_weights(model_path + \"model_weights_glasses\")\n",
        "model_hc.save_weights(model_path + \"model_weights_hair_color\")\n",
        "model_ht.save_weights(model_path + \"model_weights_hair_top\")\n"
      ],
      "execution_count": null,
      "outputs": [
        {
          "output_type": "stream",
          "text": [
            "INFO:tensorflow:Assets written to: /content/model/model_wrinkles/assets\n",
            "INFO:tensorflow:Assets written to: /content/model/model_freakles/assets\n",
            "INFO:tensorflow:Assets written to: /content/model/model_glasses/assets\n",
            "INFO:tensorflow:Assets written to: /content/model/model_hair_color/assets\n",
            "INFO:tensorflow:Assets written to: /content/model/model_hair_top/assets\n"
          ],
          "name": "stdout"
        }
      ]
    }
  ]
}